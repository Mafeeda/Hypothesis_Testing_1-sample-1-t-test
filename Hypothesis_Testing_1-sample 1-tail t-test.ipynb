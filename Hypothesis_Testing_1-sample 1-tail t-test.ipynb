{
 "cells": [
  {
   "cell_type": "markdown",
   "id": "f652a60b",
   "metadata": {},
   "source": [
    "## Hypothesis Testing -  1 - Sample 1 - tail t-test - Super Market Loyality Program"
   ]
  },
  {
   "cell_type": "code",
   "execution_count": 1,
   "id": "60a3b278",
   "metadata": {},
   "outputs": [],
   "source": [
    "import numpy as np\n",
    "from scipy import stats\n",
    "from scipy.stats import norm"
   ]
  },
  {
   "cell_type": "markdown",
   "id": "cb63ffe5",
   "metadata": {},
   "source": [
    " Population Parameters: Mean=120 Sample Parameters: n=80, Mean=130, SD=40, df=80-1=79 1-sample 1-tail ttest Assume Null Hypothesis Ho as Avg spending <= $120  Thus Alternate Hypothesis Ha as Avg spending > $120"
   ]
  },
  {
   "cell_type": "code",
   "execution_count": 2,
   "id": "7ef6fb47",
   "metadata": {},
   "outputs": [
    {
     "data": {
      "text/plain": [
       "2.23606797749979"
      ]
     },
     "execution_count": 2,
     "metadata": {},
     "output_type": "execute_result"
    }
   ],
   "source": [
    "# Find t_value = (s_mean - p_mean)/(s_SD/sqrt(n))\n",
    "t_value=(130-120)/(40/np.sqrt(80))\n",
    "t_value"
   ]
  },
  {
   "cell_type": "code",
   "execution_count": 3,
   "id": "3263ced2",
   "metadata": {},
   "outputs": [
    {
     "data": {
      "text/plain": [
       "0.014084316277010789"
      ]
     },
     "execution_count": 3,
     "metadata": {},
     "output_type": "execute_result"
    }
   ],
   "source": [
    "# Find Probability P(X<t) (One-Tail Test value) so as to compare with Type-1 error α = 0.05\n",
    "p_value=1-stats.t.cdf(t_value,df=79)\n",
    "p_value"
   ]
  },
  {
   "cell_type": "markdown",
   "id": "1ab3e09b",
   "metadata": {},
   "source": [
    " As (p-value = 0.014) < (α = 0.05); Reject Null Hypothesis Thus Avg spending > $120; we can go ahead and launch Loyality program."
   ]
  },
  {
   "cell_type": "code",
   "execution_count": null,
   "id": "7feb47c7",
   "metadata": {},
   "outputs": [],
   "source": []
  }
 ],
 "metadata": {
  "kernelspec": {
   "display_name": "Python 3",
   "language": "python",
   "name": "python3"
  },
  "language_info": {
   "codemirror_mode": {
    "name": "ipython",
    "version": 3
   },
   "file_extension": ".py",
   "mimetype": "text/x-python",
   "name": "python",
   "nbconvert_exporter": "python",
   "pygments_lexer": "ipython3",
   "version": "3.8.8"
  }
 },
 "nbformat": 4,
 "nbformat_minor": 5
}
